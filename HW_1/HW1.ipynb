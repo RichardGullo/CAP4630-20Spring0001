{
  "nbformat": 4,
  "nbformat_minor": 0,
  "metadata": {
    "colab": {
      "name": "HW1.ipynb",
      "provenance": [],
      "collapsed_sections": [
        "Msq4lzvc-rAM",
        "wRl-aQ7d-wu0",
        "dDsWfVjd-zIG",
        "UdNiUKAl-2b5"
      ],
      "include_colab_link": true
    },
    "kernelspec": {
      "name": "python3",
      "display_name": "Python 3"
    },
    "accelerator": "GPU"
  },
  "cells": [
    {
      "cell_type": "markdown",
      "metadata": {
        "id": "view-in-github",
        "colab_type": "text"
      },
      "source": [
        "<a href=\"https://colab.research.google.com/github/RichardGullo/CAP4630-20Spring0001/blob/master/HW1.ipynb\" target=\"_parent\"><img src=\"https://colab.research.google.com/assets/colab-badge.svg\" alt=\"Open In Colab\"/></a>"
      ]
    },
    {
      "cell_type": "markdown",
      "metadata": {
        "id": "kFOP5Fc7RAKy",
        "colab_type": "text"
      },
      "source": [
        "# Matricies Homework #1 Problem 2\n",
        "\n",
        "\n"
      ]
    },
    {
      "cell_type": "markdown",
      "metadata": {
        "id": "b7H746VNR1Ej",
        "colab_type": "text"
      },
      "source": [
        "The code below takes in a list of matricies and multiplies them sequentially. While multiplying, if one matrix has a different row or column than the matrix it is being multiplied with, an error will be thrown.\n",
        "\n",
        "$M_1 * M_2 * M_3 * .... * M_n$ = x\n",
        "\n",
        "where x is the final product\n",
        "\n",
        "Error occurs when the rows of one matrix does not equal the columns of\n",
        "another matrix.\n",
        "\n"
      ]
    },
    {
      "cell_type": "markdown",
      "metadata": {
        "id": "DR0N8hKcH9bh",
        "colab_type": "text"
      },
      "source": [
        "# Code For Homework"
      ]
    },
    {
      "cell_type": "code",
      "metadata": {
        "id": "n-N100cqPGQA",
        "colab_type": "code",
        "colab": {}
      },
      "source": [
        "import numpy as np\n",
        "import sys\n",
        "\n",
        "# Function that multiplies matricies iteratively\n",
        "def multiply_matrices(list):\n",
        "\n",
        "  temp = None\n",
        "\n",
        "  # Check if list is empty\n",
        "  if(list == None):\n",
        "    raise emptyListException(\"List without any matrix.\")\n",
        "  \n",
        "  # Check if there is only 1 matrix in list\n",
        "  if(len(list) == 1):\n",
        "   raise SingleMatrixException(\"List contains only one matrix.\")\n",
        "  else:\n",
        "    # Keep Multiplying Matricies one after the other\n",
        "    for i in range(0,len(list)-1):\n",
        "        if(i == 0):\n",
        "          # check row and column of 1st and second matrix\n",
        "          if(list[i].shape[1] != list[i+1].shape[0]):\n",
        "            raise matrixMultiplicationError(\"Matrix at index \" + str(i+1) + \" is causing multiplication error.\")\n",
        "\n",
        "          temp = np.matmul(list[i],list[i+1])\n",
        "        else:\n",
        "          # Check row and column of multiplied matrix and next matrix\n",
        "          if(temp.shape[1] != list[i+1].shape[0]):\n",
        "            raise matrixMultiplicationError(\"Matrix at index \" + str(i+1) + \" is causing multiplication error.\")\n",
        "\n",
        "          temp = np.matmul(temp,list[i+1])\n",
        "\n",
        "  return temp"
      ],
      "execution_count": 0,
      "outputs": []
    },
    {
      "cell_type": "markdown",
      "metadata": {
        "id": "-sD41g1jz7VI",
        "colab_type": "text"
      },
      "source": [
        "#Exceptions"
      ]
    },
    {
      "cell_type": "markdown",
      "metadata": {
        "id": "5WrOmKE00E06",
        "colab_type": "text"
      },
      "source": [
        "For this program I implemented three custom exceptions\n",
        "\n",
        "\n",
        "1. Empty list\n",
        "  - User passes an empty list as an argument.\n",
        "2. One matrix in list\n",
        "  - User passes in a list as an argument but it only has one matrix.\n",
        "3. Multiplication Error\n",
        "  - User multiplied a matrix with a row number that is different than the column\n",
        "    number of another matrix.\n",
        "\n",
        "\n"
      ]
    },
    {
      "cell_type": "code",
      "metadata": {
        "id": "Rztfn0v50Bk6",
        "colab_type": "code",
        "colab": {}
      },
      "source": [
        "# Custom Exception that captures empty list\n",
        "class emptyListException(Exception):\n",
        "  def __init__(self,msg):\n",
        "    super().__init__(msg)\n",
        "\n",
        "# Custom Exception that captures one matrix in list\n",
        "class SingleMatrixException(Exception):\n",
        "  def __init__(self,msg):\n",
        "    super().__init__(msg)\n",
        "\n",
        "# Custom Exception that captures error when one matrix's row\n",
        "# is differnt that another matrix column during multiplication\n",
        "class matrixMultiplicationError(Exception):\n",
        "  def __init__(self,msg):\n",
        "    super().__init__(msg)"
      ],
      "execution_count": 0,
      "outputs": []
    },
    {
      "cell_type": "markdown",
      "metadata": {
        "id": "bgImE5eN1ZRr",
        "colab_type": "text"
      },
      "source": [
        "#Test Cases\n"
      ]
    },
    {
      "cell_type": "markdown",
      "metadata": {
        "id": "W0MxstC81hE0",
        "colab_type": "text"
      },
      "source": [
        "For this assignment I implemented four test cases\n",
        "\n",
        "1. List of matricies with compatible rows and columns during multiplication.\n",
        "\n",
        "2. List of matricies with an incompatible row and column during multiplcation\n",
        "\n",
        "3. Single matrix in List\n",
        "\n",
        "4. Empty Matrix in List"
      ]
    },
    {
      "cell_type": "markdown",
      "metadata": {
        "id": "Msq4lzvc-rAM",
        "colab_type": "text"
      },
      "source": [
        "#Test Case #1"
      ]
    },
    {
      "cell_type": "code",
      "metadata": {
        "id": "5kBy8rTD2KQL",
        "colab_type": "code",
        "outputId": "3c65f9ad-ccea-40de-fb48-acd560d856ea",
        "colab": {
          "base_uri": "https://localhost:8080/",
          "height": 53
        }
      },
      "source": [
        "# Test case #1\n",
        "w = [\n",
        "      np.array([\n",
        "        [0,3,5],\n",
        "        [5,5,2]\n",
        "     ]),\n",
        "\n",
        "     np.array([\n",
        "        [3,4],\n",
        "        [3,-2],\n",
        "        [4,-2]\n",
        "     ]),\n",
        "\n",
        "    np.array([\n",
        "        [0],\n",
        "        [1]\n",
        "     ])\n",
        "    ]\n",
        "\n",
        "# Function Test\n",
        "multiply_matrices(w)"
      ],
      "execution_count": 0,
      "outputs": [
        {
          "output_type": "execute_result",
          "data": {
            "text/plain": [
              "array([[-16],\n",
              "       [  6]])"
            ]
          },
          "metadata": {
            "tags": []
          },
          "execution_count": 28
        }
      ]
    },
    {
      "cell_type": "markdown",
      "metadata": {
        "id": "wRl-aQ7d-wu0",
        "colab_type": "text"
      },
      "source": [
        "#Test Case #2"
      ]
    },
    {
      "cell_type": "code",
      "metadata": {
        "id": "Iwp7movR2Y3w",
        "colab_type": "code",
        "outputId": "9dfd99be-f74b-4773-b946-88c0e629ea08",
        "colab": {
          "base_uri": "https://localhost:8080/",
          "height": 335
        }
      },
      "source": [
        "# Test case #2\n",
        "x = [\n",
        "      np.array([\n",
        "        [0,3,5],\n",
        "        [5,5,2]\n",
        "     ]),\n",
        "\n",
        "     np.array([\n",
        "        [3,4],\n",
        "        [3,-2],\n",
        "        [4,-2]\n",
        "     ]),\n",
        "\n",
        "    np.array([\n",
        "        [0],\n",
        "        [1],\n",
        "        [2]\n",
        "     ])\n",
        "    ]\n",
        "\n",
        "# Function Test\n",
        "multiply_matrices(x)"
      ],
      "execution_count": 0,
      "outputs": [
        {
          "output_type": "error",
          "ename": "matrixMultiplicationError",
          "evalue": "ignored",
          "traceback": [
            "\u001b[0;31m---------------------------------------------------------------------------\u001b[0m",
            "\u001b[0;31mmatrixMultiplicationError\u001b[0m                 Traceback (most recent call last)",
            "\u001b[0;32m<ipython-input-29-ef6a3c1cad81>\u001b[0m in \u001b[0;36m<module>\u001b[0;34m()\u001b[0m\n\u001b[1;32m     19\u001b[0m \u001b[0;34m\u001b[0m\u001b[0m\n\u001b[1;32m     20\u001b[0m \u001b[0;31m# Function Test\u001b[0m\u001b[0;34m\u001b[0m\u001b[0;34m\u001b[0m\u001b[0;34m\u001b[0m\u001b[0m\n\u001b[0;32m---> 21\u001b[0;31m \u001b[0mmultiply_matrices\u001b[0m\u001b[0;34m(\u001b[0m\u001b[0mx\u001b[0m\u001b[0;34m)\u001b[0m\u001b[0;34m\u001b[0m\u001b[0;34m\u001b[0m\u001b[0m\n\u001b[0m",
            "\u001b[0;32m<ipython-input-26-25ff8fed46b5>\u001b[0m in \u001b[0;36mmultiply_matrices\u001b[0;34m(list)\u001b[0m\n\u001b[1;32m     26\u001b[0m           \u001b[0;31m# Check row and column of multiplied matrix and next matrix\u001b[0m\u001b[0;34m\u001b[0m\u001b[0;34m\u001b[0m\u001b[0;34m\u001b[0m\u001b[0m\n\u001b[1;32m     27\u001b[0m           \u001b[0;32mif\u001b[0m\u001b[0;34m(\u001b[0m\u001b[0mtemp\u001b[0m\u001b[0;34m.\u001b[0m\u001b[0mshape\u001b[0m\u001b[0;34m[\u001b[0m\u001b[0;36m1\u001b[0m\u001b[0;34m]\u001b[0m \u001b[0;34m!=\u001b[0m \u001b[0mlist\u001b[0m\u001b[0;34m[\u001b[0m\u001b[0mi\u001b[0m\u001b[0;34m+\u001b[0m\u001b[0;36m1\u001b[0m\u001b[0;34m]\u001b[0m\u001b[0;34m.\u001b[0m\u001b[0mshape\u001b[0m\u001b[0;34m[\u001b[0m\u001b[0;36m0\u001b[0m\u001b[0;34m]\u001b[0m\u001b[0;34m)\u001b[0m\u001b[0;34m:\u001b[0m\u001b[0;34m\u001b[0m\u001b[0;34m\u001b[0m\u001b[0m\n\u001b[0;32m---> 28\u001b[0;31m             \u001b[0;32mraise\u001b[0m \u001b[0mmatrixMultiplicationError\u001b[0m\u001b[0;34m(\u001b[0m\u001b[0;34m\"Matrix at index \"\u001b[0m \u001b[0;34m+\u001b[0m \u001b[0mstr\u001b[0m\u001b[0;34m(\u001b[0m\u001b[0mi\u001b[0m\u001b[0;34m+\u001b[0m\u001b[0;36m1\u001b[0m\u001b[0;34m)\u001b[0m \u001b[0;34m+\u001b[0m \u001b[0;34m\" is causing multiplicatio error.\"\u001b[0m\u001b[0;34m)\u001b[0m\u001b[0;34m\u001b[0m\u001b[0;34m\u001b[0m\u001b[0m\n\u001b[0m\u001b[1;32m     29\u001b[0m \u001b[0;34m\u001b[0m\u001b[0m\n\u001b[1;32m     30\u001b[0m           \u001b[0mtemp\u001b[0m \u001b[0;34m=\u001b[0m \u001b[0mnp\u001b[0m\u001b[0;34m.\u001b[0m\u001b[0mmatmul\u001b[0m\u001b[0;34m(\u001b[0m\u001b[0mtemp\u001b[0m\u001b[0;34m,\u001b[0m\u001b[0mlist\u001b[0m\u001b[0;34m[\u001b[0m\u001b[0mi\u001b[0m\u001b[0;34m+\u001b[0m\u001b[0;36m1\u001b[0m\u001b[0;34m]\u001b[0m\u001b[0;34m)\u001b[0m\u001b[0;34m\u001b[0m\u001b[0;34m\u001b[0m\u001b[0m\n",
            "\u001b[0;31mmatrixMultiplicationError\u001b[0m: Matrix at index 2 is causing multiplicatio error."
          ]
        }
      ]
    },
    {
      "cell_type": "markdown",
      "metadata": {
        "id": "dDsWfVjd-zIG",
        "colab_type": "text"
      },
      "source": [
        "#Test Case #3"
      ]
    },
    {
      "cell_type": "code",
      "metadata": {
        "id": "paA7yC4Q2fWs",
        "colab_type": "code",
        "outputId": "f4b7d92b-61a6-4127-9550-71d55c0ac405",
        "colab": {
          "base_uri": "https://localhost:8080/",
          "height": 335
        }
      },
      "source": [
        "\n",
        "# Test Case #3\n",
        "y = [\n",
        "      np.array([\n",
        "        [0,3,5],\n",
        "        [5,5,2]\n",
        "     ])\n",
        "    ]\n",
        "\n",
        "# Function Test\n",
        "multiply_matrices(y)"
      ],
      "execution_count": 0,
      "outputs": [
        {
          "output_type": "error",
          "ename": "SingleMatrixException",
          "evalue": "ignored",
          "traceback": [
            "\u001b[0;31m---------------------------------------------------------------------------\u001b[0m",
            "\u001b[0;31mSingleMatrixException\u001b[0m                     Traceback (most recent call last)",
            "\u001b[0;32m<ipython-input-18-534c9034a769>\u001b[0m in \u001b[0;36m<module>\u001b[0;34m()\u001b[0m\n\u001b[1;32m      7\u001b[0m \u001b[0;34m\u001b[0m\u001b[0m\n\u001b[1;32m      8\u001b[0m \u001b[0;31m# Function Test\u001b[0m\u001b[0;34m\u001b[0m\u001b[0;34m\u001b[0m\u001b[0;34m\u001b[0m\u001b[0m\n\u001b[0;32m----> 9\u001b[0;31m \u001b[0mmultiply_matrices\u001b[0m\u001b[0;34m(\u001b[0m\u001b[0my\u001b[0m\u001b[0;34m)\u001b[0m\u001b[0;34m\u001b[0m\u001b[0;34m\u001b[0m\u001b[0m\n\u001b[0m",
            "\u001b[0;32m<ipython-input-14-3a4bff855341>\u001b[0m in \u001b[0;36mmultiply_matrices\u001b[0;34m(list)\u001b[0m\n\u001b[1;32m     13\u001b[0m   \u001b[0;31m# Check if there is only 1 matrix in list\u001b[0m\u001b[0;34m\u001b[0m\u001b[0;34m\u001b[0m\u001b[0;34m\u001b[0m\u001b[0m\n\u001b[1;32m     14\u001b[0m   \u001b[0;32mif\u001b[0m\u001b[0;34m(\u001b[0m\u001b[0mlen\u001b[0m\u001b[0;34m(\u001b[0m\u001b[0mlist\u001b[0m\u001b[0;34m)\u001b[0m \u001b[0;34m==\u001b[0m \u001b[0;36m1\u001b[0m\u001b[0;34m)\u001b[0m\u001b[0;34m:\u001b[0m\u001b[0;34m\u001b[0m\u001b[0;34m\u001b[0m\u001b[0m\n\u001b[0;32m---> 15\u001b[0;31m    \u001b[0;32mraise\u001b[0m \u001b[0mSingleMatrixException\u001b[0m\u001b[0;34m(\u001b[0m\u001b[0;34m\"List contains only one matrix.\"\u001b[0m\u001b[0;34m)\u001b[0m\u001b[0;34m\u001b[0m\u001b[0;34m\u001b[0m\u001b[0m\n\u001b[0m\u001b[1;32m     16\u001b[0m   \u001b[0;32melse\u001b[0m\u001b[0;34m:\u001b[0m\u001b[0;34m\u001b[0m\u001b[0;34m\u001b[0m\u001b[0m\n\u001b[1;32m     17\u001b[0m     \u001b[0;31m# Keep Multiplying Matricies one after the other\u001b[0m\u001b[0;34m\u001b[0m\u001b[0;34m\u001b[0m\u001b[0;34m\u001b[0m\u001b[0m\n",
            "\u001b[0;31mSingleMatrixException\u001b[0m: List contains only one matrix."
          ]
        }
      ]
    },
    {
      "cell_type": "markdown",
      "metadata": {
        "id": "UdNiUKAl-2b5",
        "colab_type": "text"
      },
      "source": [
        "#Test Case #4"
      ]
    },
    {
      "cell_type": "code",
      "metadata": {
        "id": "PusYL-YJ3hSc",
        "colab_type": "code",
        "outputId": "ced42d2c-4533-4f1d-c5da-ae86c329f410",
        "colab": {
          "base_uri": "https://localhost:8080/",
          "height": 335
        }
      },
      "source": [
        "# Test Case #4\n",
        "z = [\n",
        "           np.array([\n",
        "     ])\n",
        "    ]\n",
        "\n",
        "# Function Test\n",
        "multiply_matrices(z)"
      ],
      "execution_count": 0,
      "outputs": [
        {
          "output_type": "error",
          "ename": "SingleMatrixException",
          "evalue": "ignored",
          "traceback": [
            "\u001b[0;31m---------------------------------------------------------------------------\u001b[0m",
            "\u001b[0;31mSingleMatrixException\u001b[0m                     Traceback (most recent call last)",
            "\u001b[0;32m<ipython-input-23-1b9016f794a5>\u001b[0m in \u001b[0;36m<module>\u001b[0;34m()\u001b[0m\n\u001b[1;32m      5\u001b[0m \u001b[0;34m\u001b[0m\u001b[0m\n\u001b[1;32m      6\u001b[0m \u001b[0;31m# Function Test\u001b[0m\u001b[0;34m\u001b[0m\u001b[0;34m\u001b[0m\u001b[0;34m\u001b[0m\u001b[0m\n\u001b[0;32m----> 7\u001b[0;31m \u001b[0mmultiply_matrices\u001b[0m\u001b[0;34m(\u001b[0m\u001b[0mz\u001b[0m\u001b[0;34m)\u001b[0m\u001b[0;34m\u001b[0m\u001b[0;34m\u001b[0m\u001b[0m\n\u001b[0m",
            "\u001b[0;32m<ipython-input-14-3a4bff855341>\u001b[0m in \u001b[0;36mmultiply_matrices\u001b[0;34m(list)\u001b[0m\n\u001b[1;32m     13\u001b[0m   \u001b[0;31m# Check if there is only 1 matrix in list\u001b[0m\u001b[0;34m\u001b[0m\u001b[0;34m\u001b[0m\u001b[0;34m\u001b[0m\u001b[0m\n\u001b[1;32m     14\u001b[0m   \u001b[0;32mif\u001b[0m\u001b[0;34m(\u001b[0m\u001b[0mlen\u001b[0m\u001b[0;34m(\u001b[0m\u001b[0mlist\u001b[0m\u001b[0;34m)\u001b[0m \u001b[0;34m==\u001b[0m \u001b[0;36m1\u001b[0m\u001b[0;34m)\u001b[0m\u001b[0;34m:\u001b[0m\u001b[0;34m\u001b[0m\u001b[0;34m\u001b[0m\u001b[0m\n\u001b[0;32m---> 15\u001b[0;31m    \u001b[0;32mraise\u001b[0m \u001b[0mSingleMatrixException\u001b[0m\u001b[0;34m(\u001b[0m\u001b[0;34m\"List contains only one matrix.\"\u001b[0m\u001b[0;34m)\u001b[0m\u001b[0;34m\u001b[0m\u001b[0;34m\u001b[0m\u001b[0m\n\u001b[0m\u001b[1;32m     16\u001b[0m   \u001b[0;32melse\u001b[0m\u001b[0;34m:\u001b[0m\u001b[0;34m\u001b[0m\u001b[0;34m\u001b[0m\u001b[0m\n\u001b[1;32m     17\u001b[0m     \u001b[0;31m# Keep Multiplying Matricies one after the other\u001b[0m\u001b[0;34m\u001b[0m\u001b[0;34m\u001b[0m\u001b[0;34m\u001b[0m\u001b[0m\n",
            "\u001b[0;31mSingleMatrixException\u001b[0m: List contains only one matrix."
          ]
        }
      ]
    }
  ]
}